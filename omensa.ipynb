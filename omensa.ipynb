{
 "cells": [
  {
   "cell_type": "code",
   "execution_count": 41,
   "metadata": {},
   "outputs": [],
   "source": [
    "import requests\n",
    "\n",
    "url = \"https://openmensa.org/api/v2/canteens/289/meals\"\n",
    "\n",
    "response = requests.get(url)\n",
    "\n",
    "# Check if the request was successful (status code 200)\n",
    "data = response.json()\n",
    "entry = data[0]\n",
    "\n"
   ]
  },
  {
   "cell_type": "code",
   "execution_count": 42,
   "metadata": {},
   "outputs": [
    {
     "data": {
      "text/plain": [
       "{'date': '2024-06-17',\n",
       " 'closed': False,\n",
       " 'meals': [{'id': 20076809,\n",
       "   'name': 'toskanisches Putengulasch, breite Bandnudeln , frische Kräuter , Beilagensalat ',\n",
       "   'category': 'Menü 1',\n",
       "   'prices': {'students': 3.0,\n",
       "    'employees': 3.75,\n",
       "    'pupils': None,\n",
       "    'others': 4.8},\n",
       "   'notes': ['Antioxidationsmittel',\n",
       "    'Ei',\n",
       "    'Geflügel',\n",
       "    'Glutenhaltiges Getreide',\n",
       "    'Portion Preis',\n",
       "    'Sellerie',\n",
       "    'Weizen',\n",
       "    ' = Vegan',\n",
       "    ' = Vegetarisch']},\n",
       "  {'id': 20076810,\n",
       "   'name': 'Mezzelune Spinaci , Blattspinat , Tomatensalsa , geschmelzte Brösel ',\n",
       "   'category': 'Menü vegan',\n",
       "   'prices': {'students': 3.0,\n",
       "    'employees': 3.75,\n",
       "    'pupils': None,\n",
       "    'others': 4.8},\n",
       "   'notes': ['Antioxidationsmittel',\n",
       "    'Glutenhaltiges Getreide',\n",
       "    'Portion Preis',\n",
       "    'Schwefeldioxid Sulfit',\n",
       "    'Säuerungsmittel',\n",
       "    'Weizen',\n",
       "    'geschwefelt',\n",
       "    ' = Vegan']},\n",
       "  {'id': 20076811,\n",
       "   'name': 'paniertes Schnitzel vom Schwein, Champignonrahmsoße , Pommes frites , Beilagensalat ',\n",
       "   'category': 'MA(h)l was anderes',\n",
       "   'prices': {'students': 5.0,\n",
       "    'employees': 6.25,\n",
       "    'pupils': None,\n",
       "    'others': 8.0},\n",
       "   'notes': ['Gerste',\n",
       "    'Glutenhaltiges Getreide',\n",
       "    'Milch/Laktose',\n",
       "    'Portion Preis',\n",
       "    'Schweinefleisch',\n",
       "    'Sellerie',\n",
       "    'Soja',\n",
       "    'Weizen',\n",
       "    ' = Vegan',\n",
       "    ' = Vegetarisch']},\n",
       "  {'id': 20076812,\n",
       "   'name': 'Blattsalate , Rohkostsalate , Joghurt-Dressing , Cocktail-Dressing, Balsamico-Dressing , Croûtons , Kürbiskerne ',\n",
       "   'category': 'Salatbuffet',\n",
       "   'prices': {'students': 1.2,\n",
       "    'employees': 1.5,\n",
       "    'pupils': None,\n",
       "    'others': 1.92},\n",
       "   'notes': ['Antioxidationsmittel',\n",
       "    'Ei',\n",
       "    'Farbstoff',\n",
       "    'Glutenhaltiges Getreide',\n",
       "    'Milch/Laktose',\n",
       "    'Schwefeldioxid Sulfit',\n",
       "    'Senf',\n",
       "    'Soja',\n",
       "    'Weizen',\n",
       "    'mit Süßmitteln',\n",
       "    'pro 100g Preis',\n",
       "    ' = Vegan',\n",
       "    ' = Vegetarisch']},\n",
       "  {'id': 20076813,\n",
       "   'name': 'Tiramisu ',\n",
       "   'category': 'Dessert',\n",
       "   'prices': {'students': 0.8,\n",
       "    'employees': 1.0,\n",
       "    'pupils': None,\n",
       "    'others': 1.28},\n",
       "   'notes': ['Ei',\n",
       "    'Glas Preis',\n",
       "    'Glutenhaltiges Getreide',\n",
       "    'Milch/Laktose',\n",
       "    'Soja',\n",
       "    'Weizen',\n",
       "    ' = Vegetarisch']}]}"
      ]
     },
     "execution_count": 42,
     "metadata": {},
     "output_type": "execute_result"
    }
   ],
   "source": [
    "entry"
   ]
  },
  {
   "cell_type": "code",
   "execution_count": 43,
   "metadata": {},
   "outputs": [],
   "source": [
    "for day in data:\n",
    "    if day[\"closed\"] == True:\n",
    "        continue\n",
    "    date = datetime.datetime.strptime(\"2024-06-17\", \"%Y-%m-%d\")\n",
    "    date.str\n",
    "\n",
    "    print(\"\\n\")\n",
    "    for meal in meals:\n",
    "        print(meal[\"category\"] + \"\\n\\n\" +  meal[\"name\"] + str(meal[\"prices\"][\"students\"]))"
   ]
  },
  {
   "cell_type": "code",
   "execution_count": 49,
   "metadata": {},
   "outputs": [
    {
     "ename": "Error",
     "evalue": "unsupported locale setting",
     "output_type": "error",
     "traceback": [
      "\u001b[0;31m---------------------------------------------------------------------------\u001b[0m",
      "\u001b[0;31mError\u001b[0m                                     Traceback (most recent call last)",
      "Cell \u001b[0;32mIn[49], line 4\u001b[0m\n\u001b[1;32m      1\u001b[0m \u001b[38;5;28;01mimport\u001b[39;00m \u001b[38;5;21;01mdatetime\u001b[39;00m\n\u001b[1;32m      2\u001b[0m \u001b[38;5;28;01mimport\u001b[39;00m \u001b[38;5;21;01mlocale\u001b[39;00m\n\u001b[0;32m----> 4\u001b[0m \u001b[43mlocale\u001b[49m\u001b[38;5;241;43m.\u001b[39;49m\u001b[43msetlocale\u001b[49m\u001b[43m(\u001b[49m\u001b[43mlocale\u001b[49m\u001b[38;5;241;43m.\u001b[39;49m\u001b[43mLC_ALL\u001b[49m\u001b[43m,\u001b[49m\u001b[43m \u001b[49m\u001b[38;5;124;43m\"\u001b[39;49m\u001b[38;5;124;43mde_DE\u001b[39;49m\u001b[38;5;124;43m\"\u001b[39;49m\u001b[43m)\u001b[49m\n\u001b[1;32m      6\u001b[0m date \u001b[38;5;241m=\u001b[39m datetime\u001b[38;5;241m.\u001b[39mdatetime\u001b[38;5;241m.\u001b[39mstrptime(\u001b[38;5;124m\"\u001b[39m\u001b[38;5;124m2024-06-17\u001b[39m\u001b[38;5;124m\"\u001b[39m, \u001b[38;5;124m\"\u001b[39m\u001b[38;5;124m%\u001b[39m\u001b[38;5;124mY-\u001b[39m\u001b[38;5;124m%\u001b[39m\u001b[38;5;124mm-\u001b[39m\u001b[38;5;132;01m%d\u001b[39;00m\u001b[38;5;124m\"\u001b[39m)\n\u001b[1;32m      7\u001b[0m date\u001b[38;5;241m.\u001b[39mstrftime(\u001b[38;5;124m\"\u001b[39m\u001b[38;5;124m%\u001b[39m\u001b[38;5;124mA\u001b[39m\u001b[38;5;124m\"\u001b[39m)\n",
      "File \u001b[0;32m/usr/lib/python3.11/locale.py:626\u001b[0m, in \u001b[0;36msetlocale\u001b[0;34m(category, locale)\u001b[0m\n\u001b[1;32m    623\u001b[0m \u001b[38;5;28;01mif\u001b[39;00m locale \u001b[38;5;129;01mand\u001b[39;00m \u001b[38;5;129;01mnot\u001b[39;00m \u001b[38;5;28misinstance\u001b[39m(locale, _builtin_str):\n\u001b[1;32m    624\u001b[0m     \u001b[38;5;66;03m# convert to string\u001b[39;00m\n\u001b[1;32m    625\u001b[0m     locale \u001b[38;5;241m=\u001b[39m normalize(_build_localename(locale))\n\u001b[0;32m--> 626\u001b[0m \u001b[38;5;28;01mreturn\u001b[39;00m \u001b[43m_setlocale\u001b[49m\u001b[43m(\u001b[49m\u001b[43mcategory\u001b[49m\u001b[43m,\u001b[49m\u001b[43m \u001b[49m\u001b[43mlocale\u001b[49m\u001b[43m)\u001b[49m\n",
      "\u001b[0;31mError\u001b[0m: unsupported locale setting"
     ]
    }
   ],
   "source": [
    "import datetime\n",
    "import locale\n",
    "\n",
    "locale.setlocale(locale.LC_ALL, \"de_DE.UTF-8\")\n",
    "\n",
    "date = datetime.datetime.strptime(\"2024-06-17\", \"%Y-%m-%d\")\n",
    "date.strftime(\"%A\")"
   ]
  }
 ],
 "metadata": {
  "kernelspec": {
   "display_name": ".venv",
   "language": "python",
   "name": "python3"
  },
  "language_info": {
   "codemirror_mode": {
    "name": "ipython",
    "version": 3
   },
   "file_extension": ".py",
   "mimetype": "text/x-python",
   "name": "python",
   "nbconvert_exporter": "python",
   "pygments_lexer": "ipython3",
   "version": "3.11.2"
  }
 },
 "nbformat": 4,
 "nbformat_minor": 2
}
